{
 "cells": [
  {
   "cell_type": "markdown",
   "metadata": {
    "collapsed": true
   },
   "source": [
    "# Image Classification\n",
    "In this project, you'll classify images from the [CIFAR-10 dataset](https://www.cs.toronto.edu/~kriz/cifar.html).  The dataset consists of airplanes, dogs, cats, and other objects. You'll preprocess the images, then train a convolutional neural network on all the samples. The images need to be normalized and the labels need to be one-hot encoded.  You'll get to apply what you learned and build a convolutional, max pooling, dropout, and fully connected layers.  At the end, you'll get to see your neural network's predictions on the sample images.\n",
    "## Get the Data\n",
    "Run the following cell to download the [CIFAR-10 dataset for python](https://www.cs.toronto.edu/~kriz/cifar-10-python.tar.gz)."
   ]
  },
  {
   "cell_type": "code",
   "execution_count": 1,
   "metadata": {},
   "outputs": [
    {
     "name": "stdout",
     "output_type": "stream",
     "text": [
      "All files found!\n"
     ]
    }
   ],
   "source": [
    "\"\"\"\n",
    "DON'T MODIFY ANYTHING IN THIS CELL THAT IS BELOW THIS LINE\n",
    "\"\"\"\n",
    "from urllib.request import urlretrieve\n",
    "from os.path import isfile, isdir\n",
    "from tqdm import tqdm\n",
    "import problem_unittests as tests\n",
    "import tarfile\n",
    "\n",
    "cifar10_dataset_folder_path = 'cifar-10-batches-py'\n",
    "\n",
    "class DLProgress(tqdm):\n",
    "    last_block = 0\n",
    "\n",
    "    def hook(self, block_num=1, block_size=1, total_size=None):\n",
    "        self.total = total_size\n",
    "        self.update((block_num - self.last_block) * block_size)\n",
    "        self.last_block = block_num\n",
    "\n",
    "if not isfile('cifar-10-python.tar.gz'):\n",
    "    with DLProgress(unit='B', unit_scale=True, miniters=1, desc='CIFAR-10 Dataset') as pbar:\n",
    "        urlretrieve(\n",
    "            'https://www.cs.toronto.edu/~kriz/cifar-10-python.tar.gz',\n",
    "            'cifar-10-python.tar.gz',\n",
    "            pbar.hook)\n",
    "\n",
    "if not isdir(cifar10_dataset_folder_path):\n",
    "    with tarfile.open('cifar-10-python.tar.gz') as tar:\n",
    "        tar.extractall()\n",
    "        tar.close()\n",
    "\n",
    "\n",
    "tests.test_folder_path(cifar10_dataset_folder_path)"
   ]
  },
  {
   "cell_type": "markdown",
   "metadata": {},
   "source": [
    "## Explore the Data\n",
    "The dataset is broken into batches to prevent your machine from running out of memory.  The CIFAR-10 dataset consists of 5 batches, named `data_batch_1`, `data_batch_2`, etc.. Each batch contains the labels and images that are one of the following:\n",
    "* airplane\n",
    "* automobile\n",
    "* bird\n",
    "* cat\n",
    "* deer\n",
    "* dog\n",
    "* frog\n",
    "* horse\n",
    "* ship\n",
    "* truck\n",
    "\n",
    "Understanding a dataset is part of making predictions on the data.  Play around with the code cell below by changing the `batch_id` and `sample_id`. The `batch_id` is the id for a batch (1-5). The `sample_id` is the id for a image and label pair in the batch.\n",
    "\n",
    "Ask yourself \"What are all possible labels?\", \"What is the range of values for the image data?\", \"Are the labels in order or random?\".  Answers to questions like these will help you preprocess the data and end up with better predictions."
   ]
  },
  {
   "cell_type": "code",
   "execution_count": 2,
   "metadata": {},
   "outputs": [
    {
     "name": "stdout",
     "output_type": "stream",
     "text": [
      "\n",
      "Stats of batch 4:\n",
      "Samples: 10000\n",
      "Label Counts: {0: 1003, 1: 963, 2: 1041, 3: 976, 4: 1004, 5: 1021, 6: 1004, 7: 981, 8: 1024, 9: 983}\n",
      "First 20 Labels: [0, 6, 0, 2, 7, 2, 1, 2, 4, 1, 5, 6, 6, 3, 1, 3, 5, 5, 8, 1]\n",
      "\n",
      "Example of Image 9902:\n",
      "Image - Min Value: 1 Max Value: 255\n",
      "Image - Shape: (32, 32, 3)\n",
      "Label - Label Id: 1 Name: automobile\n"
     ]
    },
    {
     "data": {
      "image/png": "[encoded data removed]",
      "text/plain": [
       "<matplotlib.figure.Figure at 0x7f1fb59c0780>"
      ]
     },
     "metadata": {
      "image/png": {
       "height": 250,
       "width": 253
      }
     },
     "output_type": "display_data"
    }
   ],
   "source": [
    "%matplotlib inline\n",
    "%config InlineBackend.figure_format = 'retina'\n",
    "\n",
    "import helper\n",
    "import numpy as np\n",
    "\n",
    "# Explore the dataset\n",
    "batch_id = np.random.randint(1,6)\n",
    "sample_id = np.random.randint(1,10001)\n",
    "helper.display_stats(cifar10_dataset_folder_path, batch_id, sample_id)"
   ]
  },
  {
   "cell_type": "markdown",
   "metadata": {},
   "source": [
    "## Implement Preprocess Functions\n",
    "### Normalize\n",
    "In the cell below, implement the `normalize` function to take in image data, `x`, and return it as a normalized Numpy array. The values should be in the range of 0 to 1, inclusive.  The return object should be the same shape as `x`."
   ]
  },
  {
   "cell_type": "code",
   "execution_count": 3,
   "metadata": {},
   "outputs": [
    {
     "name": "stdout",
     "output_type": "stream",
     "text": [
      "Tests Passed\n"
     ]
    }
   ],
   "source": [
    "def normalize(x):\n",
    "    \"\"\"\n",
    "    Normalize a list of sample image data in the range of 0 to 1\n",
    "    : x: List of image data.  The image shape is (32, 32, 3)\n",
    "    : return: Numpy array of normalize data\n",
    "    \"\"\"   \n",
    "    return (x - np.min(x))/(np.max(x) - np.min(x))\n",
    "\n",
    "\"\"\"\n",
    "DON'T MODIFY ANYTHING IN THIS CELL THAT IS BELOW THIS LINE\n",
    "\"\"\"\n",
    "tests.test_normalize(normalize)"
   ]
  },
  {
   "cell_type": "markdown",
   "metadata": {},
   "source": [
    "### One-hot encode\n",
    "Just like the previous code cell, you'll be implementing a function for preprocessing.  This time, you'll implement the `one_hot_encode` function. The input, `x`, are a list of labels.  Implement the function to return the list of labels as One-Hot encoded Numpy array.  The possible values for labels are 0 to 9. The one-hot encoding function should return the same encoding for each value between each call to `one_hot_encode`.  Make sure to save the map of encodings outside the function.\n",
    "\n",
    "**Hint:**\n",
    "\n",
    "Look into LabelBinarizer in the preprocessing module of sklearn."
   ]
  },
  {
   "cell_type": "code",
   "execution_count": 4,
   "metadata": {},
   "outputs": [
    {
     "name": "stdout",
     "output_type": "stream",
     "text": [
      "Tests Passed\n"
     ]
    }
   ],
   "source": [
    "from sklearn.preprocessing import LabelBinarizer\n",
    "\n",
    "def one_hot_encode(x):\n",
    "    \"\"\"\n",
    "    One hot encode a list of sample labels. Return a one-hot encoded vector for each label.\n",
    "    : x: List of sample Labels\n",
    "    : return: Numpy array of one-hot encoded labels\n",
    "    \"\"\"\n",
    "    lb = LabelBinarizer()\n",
    "    lb.fit([0, 1, 2, 3, 4, 5, 6, 7, 8, 9])\n",
    "    \n",
    "    return (lb.transform(x)) \n",
    "    \n",
    "\"\"\"\n",
    "DON'T MODIFY ANYTHING IN THIS CELL THAT IS BELOW THIS LINE\n",
    "\"\"\"\n",
    "tests.test_one_hot_encode(one_hot_encode)"
   ]
  },
  {
   "cell_type": "markdown",
   "metadata": {},
   "source": [
    "### Randomize Data\n",
    "As you saw from exploring the data above, the order of the samples are randomized.  It doesn't hurt to randomize it again, but you don't need to for this dataset."
   ]
  },
  {
   "cell_type": "markdown",
   "metadata": {},
   "source": [
    "## Preprocess all the data and save it\n",
    "Running the code cell below will preprocess all the CIFAR-10 data and save it to file. The code below also uses 10% of the training data for validation."
   ]
  },
  {
   "cell_type": "code",
   "execution_count": 5,
   "metadata": {
    "collapsed": true
   },
   "outputs": [],
   "source": [
    "\"\"\"\n",
    "DON'T MODIFY ANYTHING IN THIS CELL\n",
    "\"\"\"\n",
    "# Preprocess Training, Validation, and Testing Data\n",
    "helper.preprocess_and_save_data(cifar10_dataset_folder_path, normalize, one_hot_encode)"
   ]
  },
  {
   "cell_type": "markdown",
   "metadata": {},
   "source": [
    "# Check Point\n",
    "This is your first checkpoint.  If you ever decide to come back to this notebook or have to restart the notebook, you can start from here.  The preprocessed data has been saved to disk."
   ]
  },
  {
   "cell_type": "code",
   "execution_count": 6,
   "metadata": {
    "collapsed": true
   },
   "outputs": [],
   "source": [
    "\"\"\"\n",
    "DON'T MODIFY ANYTHING IN THIS CELL\n",
    "\"\"\"\n",
    "import pickle\n",
    "import problem_unittests as tests\n",
    "import helper\n",
    "\n",
    "# Load the Preprocessed Validation data\n",
    "valid_features, valid_labels = pickle.load(open('preprocess_validation.p', mode='rb'))"
   ]
  },
  {
   "cell_type": "markdown",
   "metadata": {},
   "source": [
    "## Build the network\n",
    "For the neural network, you'll build each layer into a function.  Most of the code you've seen has been outside of functions. To test your code more thoroughly, we require that you put each layer in a function.  This allows us to give you better feedback and test for simple mistakes using our unittests before you submit your project.\n",
    "\n",
    ">**Note:** If you're finding it hard to dedicate enough time for this course each week, we've provided a small shortcut to this part of the project. In the next couple of problems, you'll have the option to use classes from the [TensorFlow Layers](https://www.tensorflow.org/api_docs/python/tf/layers) or [TensorFlow Layers (contrib)](https://www.tensorflow.org/api_guides/python/contrib.layers) packages to build each layer, except the layers you build in the \"Convolutional and Max Pooling Layer\" section.  TF Layers is similar to Keras's and TFLearn's abstraction to layers, so it's easy to pickup.\n",
    "\n",
    ">However, if you would like to get the most out of this course, try to solve all the problems _without_ using anything from the TF Layers packages. You **can** still use classes from other packages that happen to have the same name as ones you find in TF Layers! For example, instead of using the TF Layers version of the `conv2d` class, [tf.layers.conv2d](https://www.tensorflow.org/api_docs/python/tf/layers/conv2d), you would want to use the TF Neural Network version of `conv2d`, [tf.nn.conv2d](https://www.tensorflow.org/api_docs/python/tf/nn/conv2d). \n",
    "\n",
    "Let's begin!\n",
    "\n",
    "### Input\n",
    "The neural network needs to read the image data, one-hot encoded labels, and dropout keep probability. Implement the following functions\n",
    "* Implement `neural_net_image_input`\n",
    " * Return a [TF Placeholder](https://www.tensorflow.org/api_docs/python/tf/placeholder)\n",
    " * Set the shape using `image_shape` with batch size set to `None`.\n",
    " * Name the TensorFlow placeholder \"x\" using the TensorFlow `name` parameter in the [TF Placeholder](https://www.tensorflow.org/api_docs/python/tf/placeholder).\n",
    "* Implement `neural_net_label_input`\n",
    " * Return a [TF Placeholder](https://www.tensorflow.org/api_docs/python/tf/placeholder)\n",
    " * Set the shape using `n_classes` with batch size set to `None`.\n",
    " * Name the TensorFlow placeholder \"y\" using the TensorFlow `name` parameter in the [TF Placeholder](https://www.tensorflow.org/api_docs/python/tf/placeholder).\n",
    "* Implement `neural_net_keep_prob_input`\n",
    " * Return a [TF Placeholder](https://www.tensorflow.org/api_docs/python/tf/placeholder) for dropout keep probability.\n",
    " * Name the TensorFlow placeholder \"keep_prob\" using the TensorFlow `name` parameter in the [TF Placeholder](https://www.tensorflow.org/api_docs/python/tf/placeholder).\n",
    "\n",
    "These names will be used at the end of the project to load your saved model.\n",
    "\n",
    "Note: `None` for shapes in TensorFlow allow for a dynamic size."
   ]
  },
  {
   "cell_type": "code",
   "execution_count": 7,
   "metadata": {},
   "outputs": [
    {
     "name": "stdout",
     "output_type": "stream",
     "text": [
      "Image Input Tests Passed.\n",
      "Label Input Tests Passed.\n",
      "Keep Prob Tests Passed.\n"
     ]
    }
   ],
   "source": [
    "import tensorflow as tf\n",
    "\n",
    "def neural_net_image_input(image_shape):\n",
    "    \"\"\"\n",
    "    Return a Tensor for a bach of image input\n",
    "    : image_shape: Shape of the images\n",
    "    : return: Tensor for image input.\n",
    "    \"\"\"    \n",
    "    return tf.placeholder(tf.float32, shape=((None,) + image_shape), name='x')\n",
    "\n",
    "\n",
    "def neural_net_label_input(n_classes):\n",
    "    \"\"\"\n",
    "    Return a Tensor for a batch of label input\n",
    "    : n_classes: Number of classes\n",
    "    : return: Tensor for label input.\n",
    "    \"\"\"\n",
    "    return tf.placeholder(tf.float32, shape=(None, n_classes), name='y')\n",
    "\n",
    "\n",
    "def neural_net_keep_prob_input():\n",
    "    \"\"\"\n",
    "    Return a Tensor for keep probability\n",
    "    : return: Tensor for keep probability.\n",
    "    \"\"\"\n",
    "    return tf.placeholder(tf.float32, shape=(None), name='keep_prob')\n",
    "\n",
    "\"\"\"\n",
    "DON'T MODIFY ANYTHING IN THIS CELL THAT IS BELOW THIS LINE\n",
    "\"\"\"\n",
    "tf.reset_default_graph()\n",
    "tests.test_nn_image_inputs(neural_net_image_input)\n",
    "tests.test_nn_label_inputs(neural_net_label_input)\n",
    "tests.test_nn_keep_prob_inputs(neural_net_keep_prob_input)"
   ]
  },
  {
   "cell_type": "markdown",
   "metadata": {},
   "source": [
    "### Convolution and Max Pooling Layer\n",
    "Convolution layers have a lot of success with images. For this code cell, you should implement the function `conv2d_maxpool` to apply convolution then max pooling:\n",
    "* Create the weight and bias using `conv_ksize`, `conv_num_outputs` and the shape of `x_tensor`.\n",
    "* Apply a convolution to `x_tensor` using weight and `conv_strides`.\n",
    " * We recommend you use same padding, but you're welcome to use any padding.\n",
    "* Add bias\n",
    "* Add a nonlinear activation to the convolution.\n",
    "* Apply Max Pooling using `pool_ksize` and `pool_strides`.\n",
    " * We recommend you use same padding, but you're welcome to use any padding.\n",
    "\n",
    "**Note:** You **can't** use [TensorFlow Layers](https://www.tensorflow.org/api_docs/python/tf/layers) or [TensorFlow Layers (contrib)](https://www.tensorflow.org/api_guides/python/contrib.layers) for **this** layer, but you can still use TensorFlow's [Neural Network](https://www.tensorflow.org/api_docs/python/tf/nn) package. You may still use the shortcut option for all the **other** layers.\n",
    "\n",
    "** Hint: **\n",
    "\n",
    "When unpacking values as an argument in Python, look into the [unpacking](https://docs.python.org/3/tutorial/controlflow.html#unpacking-argument-lists) operator. "
   ]
  },
  {
   "cell_type": "code",
   "execution_count": 8,
   "metadata": {},
   "outputs": [
    {
     "name": "stdout",
     "output_type": "stream",
     "text": [
      " -conv2d_maxpool- shape : [None, 4, 4, 10]\n",
      "Tests Passed\n"
     ]
    }
   ],
   "source": [
    "def conv2d_maxpool(x_tensor, conv_num_outputs, conv_ksize, conv_strides, pool_ksize, pool_strides):\n",
    "    \"\"\"\n",
    "    Apply convolution then max pooling to x_tensor\n",
    "    :param x_tensor: TensorFlow Tensor\n",
    "    :param conv_num_outputs: Number of outputs for the convolutional layer\n",
    "    :param conv_ksize: kernal size 2-D Tuple for the convolutional layer\n",
    "    :param conv_strides: Stride 2-D Tuple for convolution\n",
    "    :param pool_ksize: kernal size 2-D Tuple for pool\n",
    "    :param pool_strides: Stride 2-D Tuple for pool\n",
    "    : return: A tensor that represents convolution and max pooling of x_tensor\n",
    "    \"\"\"\n",
    "    # TODO: Implement Function\n",
    "    \n",
    "    # define weight shape\n",
    "    weights_shape = [conv_ksize[0], conv_ksize[1], x_tensor.shape[3].value, conv_num_outputs]\n",
    "    \n",
    "    # define weights and bias\n",
    "    weights = tf.Variable(tf.truncated_normal(weights_shape, stddev=5e-2))\n",
    "    bias = tf.Variable(tf.zeros(conv_num_outputs))\n",
    "    \n",
    "    # create 2d convolution layer \n",
    "    output = tf.nn.conv2d(x_tensor, weights, strides=[1, conv_strides[0], conv_strides[1], 1], padding='SAME')\n",
    "    \n",
    "    # add bias\n",
    "    output = tf.nn.bias_add(output, bias)\n",
    "    \n",
    "    # apply relu activation\n",
    "    output = tf.nn.relu(output)\n",
    "    \n",
    "    # apply max-pooling\n",
    "    output = tf.nn.max_pool(output, ksize=[1, pool_ksize[0], pool_ksize[1], 1], \n",
    "                            strides=[1, pool_strides[0], pool_strides[1], 1],\n",
    "                            padding='SAME') \n",
    "    \n",
    "    print(' -conv2d_maxpool- shape : {}'.format(output.shape.as_list()))\n",
    "    \n",
    "    return output \n",
    "\n",
    "\n",
    "\"\"\"\n",
    "DON'T MODIFY ANYTHING IN THIS CELL THAT IS BELOW THIS LINE\n",
    "\"\"\"\n",
    "tests.test_con_pool(conv2d_maxpool)"
   ]
  },
  {
   "cell_type": "markdown",
   "metadata": {},
   "source": [
    "### Flatten Layer\n",
    "Implement the `flatten` function to change the dimension of `x_tensor` from a 4-D tensor to a 2-D tensor.  The output should be the shape (*Batch Size*, *Flattened Image Size*). Shortcut option: you can use classes from the [TensorFlow Layers](https://www.tensorflow.org/api_docs/python/tf/layers) or [TensorFlow Layers (contrib)](https://www.tensorflow.org/api_guides/python/contrib.layers) packages for this layer. For more of a challenge, only use other TensorFlow packages."
   ]
  },
  {
   "cell_type": "code",
   "execution_count": 9,
   "metadata": {},
   "outputs": [
    {
     "name": "stdout",
     "output_type": "stream",
     "text": [
      " -flatten- shape : [None, 1800]\n",
      "Tests Passed\n"
     ]
    }
   ],
   "source": [
    "def flatten(x_tensor):\n",
    "    \"\"\"\n",
    "    Flatten x_tensor to (Batch Size, Flattened Image Size)\n",
    "    : x_tensor: A tensor of size (Batch Size, ...), where ... are the image dimensions.\n",
    "    : return: A tensor of size (Batch Size, Flattened Image Size).\n",
    "    \"\"\"\n",
    "    # TODO: Implement Function\n",
    "       \n",
    "    # flatten tensor\n",
    "    tensor_shape = x_tensor.get_shape().as_list()\n",
    "    output = tf.reshape(x_tensor, [-1,np.array(tensor_shape[1:]).prod()])\n",
    "    \n",
    "    print(' -flatten- shape : {}'.format(output.shape.as_list()))\n",
    "    \n",
    "    return output\n",
    "\n",
    "\"\"\"\n",
    "DON'T MODIFY ANYTHING IN THIS CELL THAT IS BELOW THIS LINE\n",
    "\"\"\"\n",
    "tests.test_flatten(flatten)"
   ]
  },
  {
   "cell_type": "markdown",
   "metadata": {},
   "source": [
    "### Fully-Connected Layer\n",
    "Implement the `fully_conn` function to apply a fully connected layer to `x_tensor` with the shape (*Batch Size*, *num_outputs*). Shortcut option: you can use classes from the [TensorFlow Layers](https://www.tensorflow.org/api_docs/python/tf/layers) or [TensorFlow Layers (contrib)](https://www.tensorflow.org/api_guides/python/contrib.layers) packages for this layer. For more of a challenge, only use other TensorFlow packages."
   ]
  },
  {
   "cell_type": "code",
   "execution_count": 10,
   "metadata": {},
   "outputs": [
    {
     "name": "stdout",
     "output_type": "stream",
     "text": [
      " -fc- shape : [None, 40]\n",
      "Tests Passed\n"
     ]
    }
   ],
   "source": [
    "def fully_conn(x_tensor, num_outputs):\n",
    "    \"\"\"\n",
    "    Apply a fully connected layer to x_tensor using weight and bias\n",
    "    : x_tensor: A 2-D tensor where the first dimension is batch size.\n",
    "    : num_outputs: The number of output that the new tensor should be.\n",
    "    : return: A 2-D tensor where the second dimension is num_outputs.\n",
    "    \"\"\"\n",
    "    # define weights shape\n",
    "    weights_shape = [x_tensor.shape[1].value, num_outputs]\n",
    "    \n",
    "    # define weights and bias\n",
    "    weights = tf.Variable( tf.truncated_normal(weights_shape, stddev=0.04) )\n",
    "    bias = tf.Variable( tf.zeros([num_outputs]))\n",
    "    \n",
    "    # multiply weights w/ tensor\n",
    "    output = tf.matmul(x_tensor, weights)\n",
    "    \n",
    "    # add bias\n",
    "    output = tf.nn.bias_add(output, bias)\n",
    "    \n",
    "    # apply relu activation\n",
    "    output = tf.nn.relu(output)\n",
    "    \n",
    "    print(' -fc- shape : {}'.format(output.shape.as_list()))\n",
    "    \n",
    "    return output\n",
    "\n",
    "\"\"\"\n",
    "DON'T MODIFY ANYTHING IN THIS CELL THAT IS BELOW THIS LINE\n",
    "\"\"\"\n",
    "tests.test_fully_conn(fully_conn)"
   ]
  },
  {
   "cell_type": "markdown",
   "metadata": {},
   "source": [
    "### Output Layer\n",
    "Implement the `output` function to apply a fully connected layer to `x_tensor` with the shape (*Batch Size*, *num_outputs*). Shortcut option: you can use classes from the [TensorFlow Layers](https://www.tensorflow.org/api_docs/python/tf/layers) or [TensorFlow Layers (contrib)](https://www.tensorflow.org/api_guides/python/contrib.layers) packages for this layer. For more of a challenge, only use other TensorFlow packages.\n",
    "\n",
    "**Note:** Activation, softmax, or cross entropy should **not** be applied to this."
   ]
  },
  {
   "cell_type": "code",
   "execution_count": 11,
   "metadata": {},
   "outputs": [
    {
     "name": "stdout",
     "output_type": "stream",
     "text": [
      " -output- shape : [None, 40]\n",
      "Tests Passed\n"
     ]
    }
   ],
   "source": [
    "def output(x_tensor, num_outputs):\n",
    "    \"\"\"\n",
    "    Apply a output layer to x_tensor using weight and bias\n",
    "    : x_tensor: A 2-D tensor where the first dimension is batch size.\n",
    "    : num_outputs: The number of output that the new tensor should be.\n",
    "    : return: A 2-D tensor where the second dimension is num_outputs.\n",
    "    \"\"\" \n",
    "    # define weights shape\n",
    "    weights_shape = [x_tensor.shape[1].value, num_outputs]\n",
    "    \n",
    "    # define weights and bias\n",
    "    weights = tf.Variable(tf.truncated_normal(weights_shape, stddev=( 1/x_tensor.shape[1].value )))\n",
    "    bias = tf.Variable(tf.zeros([num_outputs]))\n",
    "        \n",
    "    # multiply weights w/ tensor\n",
    "    output = tf.matmul(x_tensor, weights)\n",
    "    \n",
    "    # add bias\n",
    "    output = tf.nn.bias_add(output, bias)\n",
    "    \n",
    "    print(' -output- shape : {}'.format(output.shape.as_list()))\n",
    "                               \n",
    "    return output\n",
    "\n",
    "\n",
    "\"\"\"\n",
    "DON'T MODIFY ANYTHING IN THIS CELL THAT IS BELOW THIS LINE\n",
    "\"\"\"\n",
    "tests.test_output(output)"
   ]
  },
  {
   "cell_type": "markdown",
   "metadata": {},
   "source": [
    "### Create Convolutional Model\n",
    "Implement the function `conv_net` to create a convolutional neural network model. The function takes in a batch of images, `x`, and outputs logits.  Use the layers you created above to create this model:\n",
    "\n",
    "* Apply 1, 2, or 3 Convolution and Max Pool layers\n",
    "* Apply a Flatten Layer\n",
    "* Apply 1, 2, or 3 Fully Connected Layers\n",
    "* Apply an Output Layer\n",
    "* Return the output\n",
    "* Apply [TensorFlow's Dropout](https://www.tensorflow.org/api_docs/python/tf/nn/dropout) to one or more layers in the model using `keep_prob`. "
   ]
  },
  {
   "cell_type": "code",
   "execution_count": 12,
   "metadata": {},
   "outputs": [
    {
     "name": "stdout",
     "output_type": "stream",
     "text": [
      " -conv2d_maxpool- shape : [None, 16, 16, 64]\n",
      " -conv2d_maxpool- shape : [None, 8, 8, 64]\n",
      " -flatten- shape : [None, 4096]\n",
      " -fc- shape : [None, 384]\n",
      " -fc- shape : [None, 192]\n",
      " -output- shape : [None, 10]\n",
      " -conv2d_maxpool- shape : [None, 16, 16, 64]\n",
      " -conv2d_maxpool- shape : [None, 8, 8, 64]\n",
      " -flatten- shape : [None, 4096]\n",
      " -fc- shape : [None, 384]\n",
      " -fc- shape : [None, 192]\n",
      " -output- shape : [None, 10]\n",
      "Neural Network Built!\n"
     ]
    }
   ],
   "source": [
    "def conv_net(x, keep_prob):\n",
    "    \"\"\"\n",
    "    Create a convolutional neural network model\n",
    "    : x: Placeholder tensor that holds image data.\n",
    "    : keep_prob: Placeholder tensor that hold dropout keep probability.\n",
    "    : return: Tensor that represents logits\n",
    "    \"\"\"\n",
    "    # conv1\n",
    "    conv = conv2d_maxpool(x, conv_num_outputs=64, conv_ksize=[5,5], conv_strides=[1,1], pool_ksize=[3,3], pool_strides=[2,2])\n",
    "    \n",
    "    # conv2\n",
    "    conv = conv2d_maxpool(conv, conv_num_outputs=64, conv_ksize=[5,5], conv_strides=[1,1], pool_ksize=[3,3], pool_strides=[2,2])\n",
    "    \n",
    "    # flatten conv2\n",
    "    conv = flatten(conv)\n",
    "    \n",
    "    # fc1 \n",
    "    conv = fully_conn(conv, 384)\n",
    "    \n",
    "    # fc2\n",
    "    conv = fully_conn(conv, 192)\n",
    "    \n",
    "    # dropout \n",
    "    conv = tf.nn.dropout(conv, keep_prob)\n",
    "    \n",
    "    # output \n",
    "    conv = output(conv, 10)\n",
    "    \n",
    "    return conv\n",
    "\n",
    "\n",
    "\"\"\"\n",
    "DON'T MODIFY ANYTHING IN THIS CELL THAT IS BELOW THIS LINE\n",
    "\"\"\"\n",
    "\n",
    "##############################\n",
    "## Build the Neural Network ##\n",
    "##############################\n",
    "\n",
    "# Remove previous weights, bias, inputs, etc..\n",
    "tf.reset_default_graph()\n",
    "\n",
    "# Inputs\n",
    "x = neural_net_image_input((32, 32, 3))\n",
    "y = neural_net_label_input(10)\n",
    "keep_prob = neural_net_keep_prob_input()\n",
    "\n",
    "# Model\n",
    "logits = conv_net(x, keep_prob)\n",
    "\n",
    "# Name logits Tensor, so that is can be loaded from disk after training\n",
    "logits = tf.identity(logits, name='logits')\n",
    "\n",
    "# Loss and Optimizer\n",
    "cost = tf.reduce_mean(tf.nn.softmax_cross_entropy_with_logits(logits=logits, labels=y))\n",
    "optimizer = tf.train.AdamOptimizer().minimize(cost)\n",
    "\n",
    "# Accuracy\n",
    "correct_pred = tf.equal(tf.argmax(logits, 1), tf.argmax(y, 1))\n",
    "accuracy = tf.reduce_mean(tf.cast(correct_pred, tf.float32), name='accuracy')\n",
    "\n",
    "tests.test_conv_net(conv_net)"
   ]
  },
  {
   "cell_type": "markdown",
   "metadata": {},
   "source": [
    "## Train the Neural Network\n",
    "### Single Optimization\n",
    "Implement the function `train_neural_network` to do a single optimization.  The optimization should use `optimizer` to optimize in `session` with a `feed_dict` of the following:\n",
    "* `x` for image input\n",
    "* `y` for labels\n",
    "* `keep_prob` for keep probability for dropout\n",
    "\n",
    "This function will be called for each batch, so `tf.global_variables_initializer()` has already been called.\n",
    "\n",
    "Note: Nothing needs to be returned. This function is only optimizing the neural network."
   ]
  },
  {
   "cell_type": "code",
   "execution_count": 13,
   "metadata": {},
   "outputs": [
    {
     "name": "stdout",
     "output_type": "stream",
     "text": [
      "Tests Passed\n"
     ]
    }
   ],
   "source": [
    "def train_neural_network(session, optimizer, keep_probability, feature_batch, label_batch):\n",
    "    \"\"\"\n",
    "    Optimize the session on a batch of images and labels\n",
    "    : session: Current TensorFlow session\n",
    "    : optimizer: TensorFlow optimizer function\n",
    "    : keep_probability: keep probability\n",
    "    : feature_batch: Batch of Numpy image data\n",
    "    : label_batch: Batch of Numpy label data\n",
    "    \"\"\"\n",
    "    # TODO: Implement Function\n",
    "    session.run(optimizer, feed_dict={x: feature_batch, y: label_batch, keep_prob: keep_probability})\n",
    "\n",
    "\"\"\"\n",
    "DON'T MODIFY ANYTHING IN THIS CELL THAT IS BELOW THIS LINE\n",
    "\"\"\"\n",
    "tests.test_train_nn(train_neural_network)"
   ]
  },
  {
   "cell_type": "markdown",
   "metadata": {},
   "source": [
    "### Show Stats\n",
    "Implement the function `print_stats` to print loss and validation accuracy.  Use the global variables `valid_features` and `valid_labels` to calculate validation accuracy.  Use a keep probability of `1.0` to calculate the loss and validation accuracy."
   ]
  },
  {
   "cell_type": "code",
   "execution_count": 14,
   "metadata": {
    "collapsed": true
   },
   "outputs": [],
   "source": [
    "def print_stats(session, feature_batch, label_batch, cost, accuracy):\n",
    "    \"\"\"\n",
    "    Print information about loss and validation accuracy\n",
    "    : session: Current TensorFlow session\n",
    "    : feature_batch: Batch of Numpy image data\n",
    "    : label_batch: Batch of Numpy label data\n",
    "    : cost: TensorFlow cost function\n",
    "    : accuracy: TensorFlow accuracy function\n",
    "    \"\"\"\n",
    "    # TODO: Implement Function\n",
    "    loss = sess.run(cost, feed_dict={x: feature_batch, y: label_batch, keep_prob: 1.})\n",
    "    valid_acc = sess.run(accuracy, feed_dict={x: valid_features, y: valid_labels, keep_prob: 1.})\n",
    "\n",
    "    print('Loss: {:.5f} Validation Accuracy: {:.5f}'.format(loss, valid_acc))"
   ]
  },
  {
   "cell_type": "markdown",
   "metadata": {},
   "source": [
    "### Hyperparameters\n",
    "Tune the following parameters:\n",
    "* Set `epochs` to the number of iterations until the network stops learning or start overfitting\n",
    "* Set `batch_size` to the highest number that your machine has memory for.  Most people set them to common sizes of memory:\n",
    " * 64\n",
    " * 128\n",
    " * 256\n",
    " * ...\n",
    "* Set `keep_probability` to the probability of keeping a node using dropout"
   ]
  },
  {
   "cell_type": "code",
   "execution_count": 15,
   "metadata": {
    "collapsed": true
   },
   "outputs": [],
   "source": [
    "# TODO: Tune Parameters\n",
    "epochs = 50\n",
    "batch_size = 512\n",
    "keep_probability = 0.5"
   ]
  },
  {
   "cell_type": "markdown",
   "metadata": {},
   "source": [
    "### Train on a Single CIFAR-10 Batch\n",
    "Instead of training the neural network on all the CIFAR-10 batches of data, let's use a single batch. This should save time while you iterate on the model to get a better accuracy.  Once the final validation accuracy is 50% or greater, run the model on all the data in the next section."
   ]
  },
  {
   "cell_type": "code",
   "execution_count": 16,
   "metadata": {},
   "outputs": [
    {
     "name": "stdout",
     "output_type": "stream",
     "text": [
      "Checking the Training on a Single Batch...\n",
      "Epoch  1, CIFAR-10 Batch 1:  Loss: 1.98822 Validation Accuracy: 0.28160\n",
      "Epoch  2, CIFAR-10 Batch 1:  Loss: 1.88680 Validation Accuracy: 0.29740\n",
      "Epoch  3, CIFAR-10 Batch 1:  Loss: 1.82933 Validation Accuracy: 0.35020\n",
      "Epoch  4, CIFAR-10 Batch 1:  Loss: 1.76078 Validation Accuracy: 0.36760\n",
      "Epoch  5, CIFAR-10 Batch 1:  Loss: 1.67674 Validation Accuracy: 0.39500\n",
      "Epoch  6, CIFAR-10 Batch 1:  Loss: 1.64244 Validation Accuracy: 0.40700\n",
      "Epoch  7, CIFAR-10 Batch 1:  Loss: 1.47820 Validation Accuracy: 0.46160\n",
      "Epoch  8, CIFAR-10 Batch 1:  Loss: 1.43357 Validation Accuracy: 0.46800\n",
      "Epoch  9, CIFAR-10 Batch 1:  Loss: 1.32989 Validation Accuracy: 0.49480\n",
      "Epoch 10, CIFAR-10 Batch 1:  Loss: 1.23146 Validation Accuracy: 0.51920\n",
      "Epoch 11, CIFAR-10 Batch 1:  Loss: 1.16480 Validation Accuracy: 0.52880\n",
      "Epoch 12, CIFAR-10 Batch 1:  Loss: 1.09785 Validation Accuracy: 0.54200\n",
      "Epoch 13, CIFAR-10 Batch 1:  Loss: 1.08600 Validation Accuracy: 0.53400\n",
      "Epoch 14, CIFAR-10 Batch 1:  Loss: 1.00315 Validation Accuracy: 0.54500\n",
      "Epoch 15, CIFAR-10 Batch 1:  Loss: 0.90068 Validation Accuracy: 0.56560\n",
      "Epoch 16, CIFAR-10 Batch 1:  Loss: 0.84387 Validation Accuracy: 0.56480\n",
      "Epoch 17, CIFAR-10 Batch 1:  Loss: 0.80205 Validation Accuracy: 0.57620\n",
      "Epoch 18, CIFAR-10 Batch 1:  Loss: 0.78531 Validation Accuracy: 0.57120\n",
      "Epoch 19, CIFAR-10 Batch 1:  Loss: 0.74016 Validation Accuracy: 0.59100\n",
      "Epoch 20, CIFAR-10 Batch 1:  Loss: 0.71167 Validation Accuracy: 0.56060\n",
      "Epoch 21, CIFAR-10 Batch 1:  Loss: 0.61073 Validation Accuracy: 0.58520\n",
      "Epoch 22, CIFAR-10 Batch 1:  Loss: 0.62637 Validation Accuracy: 0.57440\n",
      "Epoch 23, CIFAR-10 Batch 1:  Loss: 0.53749 Validation Accuracy: 0.59620\n",
      "Epoch 24, CIFAR-10 Batch 1:  Loss: 0.52482 Validation Accuracy: 0.61040\n",
      "Epoch 25, CIFAR-10 Batch 1:  Loss: 0.45562 Validation Accuracy: 0.59940\n",
      "Epoch 26, CIFAR-10 Batch 1:  Loss: 0.40672 Validation Accuracy: 0.60520\n",
      "Epoch 27, CIFAR-10 Batch 1:  Loss: 0.35803 Validation Accuracy: 0.62140\n",
      "Epoch 28, CIFAR-10 Batch 1:  Loss: 0.37831 Validation Accuracy: 0.59940\n",
      "Epoch 29, CIFAR-10 Batch 1:  Loss: 0.31333 Validation Accuracy: 0.60800\n",
      "Epoch 30, CIFAR-10 Batch 1:  Loss: 0.27830 Validation Accuracy: 0.62160\n",
      "Epoch 31, CIFAR-10 Batch 1:  Loss: 0.24923 Validation Accuracy: 0.62100\n",
      "Epoch 32, CIFAR-10 Batch 1:  Loss: 0.22574 Validation Accuracy: 0.62500\n",
      "Epoch 33, CIFAR-10 Batch 1:  Loss: 0.21906 Validation Accuracy: 0.61580\n",
      "Epoch 34, CIFAR-10 Batch 1:  Loss: 0.24882 Validation Accuracy: 0.60160\n",
      "Epoch 35, CIFAR-10 Batch 1:  Loss: 0.24215 Validation Accuracy: 0.61060\n",
      "Epoch 36, CIFAR-10 Batch 1:  Loss: 0.18295 Validation Accuracy: 0.60920\n",
      "Epoch 37, CIFAR-10 Batch 1:  Loss: 0.16892 Validation Accuracy: 0.61480\n",
      "Epoch 38, CIFAR-10 Batch 1:  Loss: 0.14761 Validation Accuracy: 0.61360\n",
      "Epoch 39, CIFAR-10 Batch 1:  Loss: 0.17473 Validation Accuracy: 0.59840\n",
      "Epoch 40, CIFAR-10 Batch 1:  Loss: 0.16705 Validation Accuracy: 0.59460\n",
      "Epoch 41, CIFAR-10 Batch 1:  Loss: 0.14000 Validation Accuracy: 0.61040\n",
      "Epoch 42, CIFAR-10 Batch 1:  Loss: 0.09968 Validation Accuracy: 0.60820\n",
      "Epoch 43, CIFAR-10 Batch 1:  Loss: 0.10662 Validation Accuracy: 0.61160\n",
      "Epoch 44, CIFAR-10 Batch 1:  Loss: 0.09966 Validation Accuracy: 0.59680\n",
      "Epoch 45, CIFAR-10 Batch 1:  Loss: 0.11263 Validation Accuracy: 0.57820\n",
      "Epoch 46, CIFAR-10 Batch 1:  Loss: 0.09335 Validation Accuracy: 0.59200\n",
      "Epoch 47, CIFAR-10 Batch 1:  Loss: 0.06683 Validation Accuracy: 0.59020\n",
      "Epoch 48, CIFAR-10 Batch 1:  Loss: 0.13357 Validation Accuracy: 0.55160\n",
      "Epoch 49, CIFAR-10 Batch 1:  Loss: 0.07096 Validation Accuracy: 0.59640\n",
      "Epoch 50, CIFAR-10 Batch 1:  Loss: 0.03775 Validation Accuracy: 0.61440\n"
     ]
    }
   ],
   "source": [
    "\"\"\"\n",
    "DON'T MODIFY ANYTHING IN THIS CELL\n",
    "\"\"\"\n",
    "print('Checking the Training on a Single Batch...')\n",
    "with tf.Session() as sess:\n",
    "    # Initializing the variables\n",
    "    sess.run(tf.global_variables_initializer())\n",
    "    \n",
    "    # Training cycle\n",
    "    for epoch in range(epochs):\n",
    "        batch_i = 1\n",
    "        for batch_features, batch_labels in helper.load_preprocess_training_batch(batch_i, batch_size):\n",
    "            train_neural_network(sess, optimizer, keep_probability, batch_features, batch_labels)\n",
    "        print('Epoch {:>2}, CIFAR-10 Batch {}:  '.format(epoch + 1, batch_i), end='')\n",
    "        print_stats(sess, batch_features, batch_labels, cost, accuracy)"
   ]
  },
  {
   "cell_type": "markdown",
   "metadata": {},
   "source": [
    "### Fully Train the Model\n",
    "Now that you got a good accuracy with a single CIFAR-10 batch, try it with all five batches."
   ]
  },
  {
   "cell_type": "code",
   "execution_count": 17,
   "metadata": {},
   "outputs": [
    {
     "name": "stdout",
     "output_type": "stream",
     "text": [
      "Training...\n",
      "Epoch  1, CIFAR-10 Batch 1:  Loss: 2.12955 Validation Accuracy: 0.24620\n",
      "Epoch  1, CIFAR-10 Batch 2:  Loss: 1.86481 Validation Accuracy: 0.30060\n",
      "Epoch  1, CIFAR-10 Batch 3:  Loss: 1.71194 Validation Accuracy: 0.33280\n",
      "Epoch  1, CIFAR-10 Batch 4:  Loss: 1.56150 Validation Accuracy: 0.40120\n",
      "Epoch  1, CIFAR-10 Batch 5:  Loss: 1.55731 Validation Accuracy: 0.42140\n",
      "Epoch  2, CIFAR-10 Batch 1:  Loss: 1.61076 Validation Accuracy: 0.42700\n",
      "Epoch  2, CIFAR-10 Batch 2:  Loss: 1.45367 Validation Accuracy: 0.46060\n",
      "Epoch  2, CIFAR-10 Batch 3:  Loss: 1.29069 Validation Accuracy: 0.46800\n",
      "Epoch  2, CIFAR-10 Batch 4:  Loss: 1.32156 Validation Accuracy: 0.49700\n",
      "Epoch  2, CIFAR-10 Batch 5:  Loss: 1.33967 Validation Accuracy: 0.48980\n",
      "Epoch  3, CIFAR-10 Batch 1:  Loss: 1.44213 Validation Accuracy: 0.49940\n",
      "Epoch  3, CIFAR-10 Batch 2:  Loss: 1.28467 Validation Accuracy: 0.51800\n",
      "Epoch  3, CIFAR-10 Batch 3:  Loss: 1.10618 Validation Accuracy: 0.53520\n",
      "Epoch  3, CIFAR-10 Batch 4:  Loss: 1.12359 Validation Accuracy: 0.54720\n",
      "Epoch  3, CIFAR-10 Batch 5:  Loss: 1.16455 Validation Accuracy: 0.55620\n",
      "Epoch  4, CIFAR-10 Batch 1:  Loss: 1.21652 Validation Accuracy: 0.57480\n",
      "Epoch  4, CIFAR-10 Batch 2:  Loss: 1.12340 Validation Accuracy: 0.55260\n",
      "Epoch  4, CIFAR-10 Batch 3:  Loss: 1.02936 Validation Accuracy: 0.56660\n",
      "Epoch  4, CIFAR-10 Batch 4:  Loss: 0.94906 Validation Accuracy: 0.59700\n",
      "Epoch  4, CIFAR-10 Batch 5:  Loss: 1.01777 Validation Accuracy: 0.59280\n",
      "Epoch  5, CIFAR-10 Batch 1:  Loss: 1.09174 Validation Accuracy: 0.59400\n",
      "Epoch  5, CIFAR-10 Batch 2:  Loss: 0.95291 Validation Accuracy: 0.59960\n",
      "Epoch  5, CIFAR-10 Batch 3:  Loss: 0.89621 Validation Accuracy: 0.61080\n",
      "Epoch  5, CIFAR-10 Batch 4:  Loss: 0.83938 Validation Accuracy: 0.61960\n",
      "Epoch  5, CIFAR-10 Batch 5:  Loss: 0.93107 Validation Accuracy: 0.61860\n",
      "Epoch  6, CIFAR-10 Batch 1:  Loss: 0.96794 Validation Accuracy: 0.62760\n",
      "Epoch  6, CIFAR-10 Batch 2:  Loss: 0.84338 Validation Accuracy: 0.63100\n",
      "Epoch  6, CIFAR-10 Batch 3:  Loss: 0.85603 Validation Accuracy: 0.63460\n",
      "Epoch  6, CIFAR-10 Batch 4:  Loss: 0.74722 Validation Accuracy: 0.64660\n",
      "Epoch  6, CIFAR-10 Batch 5:  Loss: 0.77699 Validation Accuracy: 0.65240\n",
      "Epoch  7, CIFAR-10 Batch 1:  Loss: 0.86740 Validation Accuracy: 0.64720\n",
      "Epoch  7, CIFAR-10 Batch 2:  Loss: 0.77491 Validation Accuracy: 0.66160\n",
      "Epoch  7, CIFAR-10 Batch 3:  Loss: 0.70607 Validation Accuracy: 0.66900\n",
      "Epoch  7, CIFAR-10 Batch 4:  Loss: 0.70920 Validation Accuracy: 0.65380\n",
      "Epoch  7, CIFAR-10 Batch 5:  Loss: 0.70807 Validation Accuracy: 0.67360\n",
      "Epoch  8, CIFAR-10 Batch 1:  Loss: 0.74593 Validation Accuracy: 0.67700\n",
      "Epoch  8, CIFAR-10 Batch 2:  Loss: 0.73854 Validation Accuracy: 0.67380\n",
      "Epoch  8, CIFAR-10 Batch 3:  Loss: 0.64416 Validation Accuracy: 0.68360\n",
      "Epoch  8, CIFAR-10 Batch 4:  Loss: 0.60203 Validation Accuracy: 0.67680\n",
      "Epoch  8, CIFAR-10 Batch 5:  Loss: 0.63272 Validation Accuracy: 0.68880\n",
      "Epoch  9, CIFAR-10 Batch 1:  Loss: 0.65828 Validation Accuracy: 0.68040\n",
      "Epoch  9, CIFAR-10 Batch 2:  Loss: 0.64346 Validation Accuracy: 0.68900\n",
      "Epoch  9, CIFAR-10 Batch 3:  Loss: 0.59481 Validation Accuracy: 0.67840\n",
      "Epoch  9, CIFAR-10 Batch 4:  Loss: 0.54704 Validation Accuracy: 0.69140\n",
      "Epoch  9, CIFAR-10 Batch 5:  Loss: 0.54054 Validation Accuracy: 0.70520\n",
      "Epoch 10, CIFAR-10 Batch 1:  Loss: 0.58984 Validation Accuracy: 0.69540\n",
      "Epoch 10, CIFAR-10 Batch 2:  Loss: 0.60036 Validation Accuracy: 0.69140\n",
      "Epoch 10, CIFAR-10 Batch 3:  Loss: 0.52279 Validation Accuracy: 0.68820\n",
      "Epoch 10, CIFAR-10 Batch 4:  Loss: 0.49993 Validation Accuracy: 0.69780\n",
      "Epoch 10, CIFAR-10 Batch 5:  Loss: 0.52023 Validation Accuracy: 0.69420\n",
      "Epoch 11, CIFAR-10 Batch 1:  Loss: 0.56101 Validation Accuracy: 0.69460\n",
      "Epoch 11, CIFAR-10 Batch 2:  Loss: 0.52986 Validation Accuracy: 0.69720\n",
      "Epoch 11, CIFAR-10 Batch 3:  Loss: 0.49036 Validation Accuracy: 0.68800\n",
      "Epoch 11, CIFAR-10 Batch 4:  Loss: 0.41757 Validation Accuracy: 0.71580\n",
      "Epoch 11, CIFAR-10 Batch 5:  Loss: 0.43646 Validation Accuracy: 0.71060\n",
      "Epoch 12, CIFAR-10 Batch 1:  Loss: 0.52735 Validation Accuracy: 0.70960\n",
      "Epoch 12, CIFAR-10 Batch 2:  Loss: 0.50403 Validation Accuracy: 0.69040\n",
      "Epoch 12, CIFAR-10 Batch 3:  Loss: 0.46066 Validation Accuracy: 0.70040\n",
      "Epoch 12, CIFAR-10 Batch 4:  Loss: 0.42914 Validation Accuracy: 0.69780\n",
      "Epoch 12, CIFAR-10 Batch 5:  Loss: 0.43310 Validation Accuracy: 0.69400\n",
      "Epoch 13, CIFAR-10 Batch 1:  Loss: 0.45526 Validation Accuracy: 0.71340\n",
      "Epoch 13, CIFAR-10 Batch 2:  Loss: 0.44551 Validation Accuracy: 0.70640\n",
      "Epoch 13, CIFAR-10 Batch 3:  Loss: 0.41978 Validation Accuracy: 0.69580\n",
      "Epoch 13, CIFAR-10 Batch 4:  Loss: 0.38391 Validation Accuracy: 0.70460\n",
      "Epoch 13, CIFAR-10 Batch 5:  Loss: 0.35030 Validation Accuracy: 0.71160\n",
      "Epoch 14, CIFAR-10 Batch 1:  Loss: 0.46420 Validation Accuracy: 0.69120\n",
      "Epoch 14, CIFAR-10 Batch 2:  Loss: 0.38651 Validation Accuracy: 0.71940\n",
      "Epoch 14, CIFAR-10 Batch 3:  Loss: 0.32685 Validation Accuracy: 0.72060\n",
      "Epoch 14, CIFAR-10 Batch 4:  Loss: 0.35307 Validation Accuracy: 0.69700\n",
      "Epoch 14, CIFAR-10 Batch 5:  Loss: 0.29915 Validation Accuracy: 0.71940\n",
      "Epoch 15, CIFAR-10 Batch 1:  Loss: 0.36121 Validation Accuracy: 0.70320\n",
      "Epoch 15, CIFAR-10 Batch 2:  Loss: 0.34584 Validation Accuracy: 0.71340\n",
      "Epoch 15, CIFAR-10 Batch 3:  Loss: 0.30650 Validation Accuracy: 0.71480\n",
      "Epoch 15, CIFAR-10 Batch 4:  Loss: 0.29969 Validation Accuracy: 0.70860\n",
      "Epoch 15, CIFAR-10 Batch 5:  Loss: 0.31640 Validation Accuracy: 0.70880\n",
      "Epoch 16, CIFAR-10 Batch 1:  Loss: 0.31352 Validation Accuracy: 0.73220\n",
      "Epoch 16, CIFAR-10 Batch 2:  Loss: 0.31680 Validation Accuracy: 0.71840\n",
      "Epoch 16, CIFAR-10 Batch 3:  Loss: 0.28719 Validation Accuracy: 0.71980\n",
      "Epoch 16, CIFAR-10 Batch 4:  Loss: 0.29556 Validation Accuracy: 0.70180\n",
      "Epoch 16, CIFAR-10 Batch 5:  Loss: 0.23792 Validation Accuracy: 0.72420\n",
      "Epoch 17, CIFAR-10 Batch 1:  Loss: 0.27297 Validation Accuracy: 0.72280\n",
      "Epoch 17, CIFAR-10 Batch 2:  Loss: 0.29267 Validation Accuracy: 0.71780\n",
      "Epoch 17, CIFAR-10 Batch 3:  Loss: 0.25675 Validation Accuracy: 0.71780\n",
      "Epoch 17, CIFAR-10 Batch 4:  Loss: 0.22563 Validation Accuracy: 0.71940\n",
      "Epoch 17, CIFAR-10 Batch 5:  Loss: 0.23100 Validation Accuracy: 0.71780\n",
      "Epoch 18, CIFAR-10 Batch 1:  Loss: 0.29735 Validation Accuracy: 0.71080\n",
      "Epoch 18, CIFAR-10 Batch 2:  Loss: 0.27591 Validation Accuracy: 0.70780\n",
      "Epoch 18, CIFAR-10 Batch 3:  Loss: 0.24000 Validation Accuracy: 0.71140\n",
      "Epoch 18, CIFAR-10 Batch 4:  Loss: 0.20048 Validation Accuracy: 0.73240\n",
      "Epoch 18, CIFAR-10 Batch 5:  Loss: 0.18513 Validation Accuracy: 0.72080\n",
      "Epoch 19, CIFAR-10 Batch 1:  Loss: 0.24657 Validation Accuracy: 0.71640\n",
      "Epoch 19, CIFAR-10 Batch 2:  Loss: 0.20210 Validation Accuracy: 0.72060\n",
      "Epoch 19, CIFAR-10 Batch 3:  Loss: 0.16315 Validation Accuracy: 0.71580\n",
      "Epoch 19, CIFAR-10 Batch 4:  Loss: 0.15806 Validation Accuracy: 0.72320\n",
      "Epoch 19, CIFAR-10 Batch 5:  Loss: 0.17788 Validation Accuracy: 0.72500\n",
      "Epoch 20, CIFAR-10 Batch 1:  Loss: 0.19827 Validation Accuracy: 0.71700\n",
      "Epoch 20, CIFAR-10 Batch 2:  Loss: 0.20157 Validation Accuracy: 0.71860\n",
      "Epoch 20, CIFAR-10 Batch 3:  Loss: 0.13287 Validation Accuracy: 0.72520\n",
      "Epoch 20, CIFAR-10 Batch 4:  Loss: 0.12598 Validation Accuracy: 0.72960\n",
      "Epoch 20, CIFAR-10 Batch 5:  Loss: 0.13842 Validation Accuracy: 0.73280\n",
      "Epoch 21, CIFAR-10 Batch 1:  Loss: 0.18662 Validation Accuracy: 0.71700\n",
      "Epoch 21, CIFAR-10 Batch 2:  Loss: 0.16773 Validation Accuracy: 0.72440\n",
      "Epoch 21, CIFAR-10 Batch 3:  Loss: 0.11491 Validation Accuracy: 0.72920\n",
      "Epoch 21, CIFAR-10 Batch 4:  Loss: 0.10829 Validation Accuracy: 0.72880\n",
      "Epoch 21, CIFAR-10 Batch 5:  Loss: 0.11069 Validation Accuracy: 0.74040\n",
      "Epoch 22, CIFAR-10 Batch 1:  Loss: 0.13533 Validation Accuracy: 0.71560\n",
      "Epoch 22, CIFAR-10 Batch 2:  Loss: 0.12952 Validation Accuracy: 0.72640\n",
      "Epoch 22, CIFAR-10 Batch 3:  Loss: 0.09819 Validation Accuracy: 0.72560\n",
      "Epoch 22, CIFAR-10 Batch 4:  Loss: 0.10255 Validation Accuracy: 0.73060\n",
      "Epoch 22, CIFAR-10 Batch 5:  Loss: 0.08515 Validation Accuracy: 0.72280\n",
      "Epoch 23, CIFAR-10 Batch 1:  Loss: 0.11229 Validation Accuracy: 0.72480\n",
      "Epoch 23, CIFAR-10 Batch 2:  Loss: 0.15904 Validation Accuracy: 0.70280\n",
      "Epoch 23, CIFAR-10 Batch 3:  Loss: 0.06459 Validation Accuracy: 0.72020\n",
      "Epoch 23, CIFAR-10 Batch 4:  Loss: 0.11575 Validation Accuracy: 0.70400\n"
     ]
    },
    {
     "name": "stdout",
     "output_type": "stream",
     "text": [
      "Epoch 23, CIFAR-10 Batch 5:  Loss: 0.08402 Validation Accuracy: 0.71740\n",
      "Epoch 24, CIFAR-10 Batch 1:  Loss: 0.12104 Validation Accuracy: 0.70140\n",
      "Epoch 24, CIFAR-10 Batch 2:  Loss: 0.09524 Validation Accuracy: 0.72700\n",
      "Epoch 24, CIFAR-10 Batch 3:  Loss: 0.07112 Validation Accuracy: 0.72660\n",
      "Epoch 24, CIFAR-10 Batch 4:  Loss: 0.09450 Validation Accuracy: 0.70920\n",
      "Epoch 24, CIFAR-10 Batch 5:  Loss: 0.08265 Validation Accuracy: 0.72600\n",
      "Epoch 25, CIFAR-10 Batch 1:  Loss: 0.10541 Validation Accuracy: 0.70880\n",
      "Epoch 25, CIFAR-10 Batch 2:  Loss: 0.08611 Validation Accuracy: 0.73020\n",
      "Epoch 25, CIFAR-10 Batch 3:  Loss: 0.06960 Validation Accuracy: 0.71760\n",
      "Epoch 25, CIFAR-10 Batch 4:  Loss: 0.14584 Validation Accuracy: 0.70200\n",
      "Epoch 25, CIFAR-10 Batch 5:  Loss: 0.06505 Validation Accuracy: 0.72540\n",
      "Epoch 26, CIFAR-10 Batch 1:  Loss: 0.07898 Validation Accuracy: 0.72660\n",
      "Epoch 26, CIFAR-10 Batch 2:  Loss: 0.08829 Validation Accuracy: 0.72000\n",
      "Epoch 26, CIFAR-10 Batch 3:  Loss: 0.03549 Validation Accuracy: 0.72240\n",
      "Epoch 26, CIFAR-10 Batch 4:  Loss: 0.09410 Validation Accuracy: 0.68780\n",
      "Epoch 26, CIFAR-10 Batch 5:  Loss: 0.07162 Validation Accuracy: 0.72000\n",
      "Epoch 27, CIFAR-10 Batch 1:  Loss: 0.07256 Validation Accuracy: 0.72060\n",
      "Epoch 27, CIFAR-10 Batch 2:  Loss: 0.05636 Validation Accuracy: 0.71980\n",
      "Epoch 27, CIFAR-10 Batch 3:  Loss: 0.03907 Validation Accuracy: 0.73100\n",
      "Epoch 27, CIFAR-10 Batch 4:  Loss: 0.07103 Validation Accuracy: 0.70920\n",
      "Epoch 27, CIFAR-10 Batch 5:  Loss: 0.06675 Validation Accuracy: 0.71240\n",
      "Epoch 28, CIFAR-10 Batch 1:  Loss: 0.06701 Validation Accuracy: 0.71300\n",
      "Epoch 28, CIFAR-10 Batch 2:  Loss: 0.04269 Validation Accuracy: 0.72360\n",
      "Epoch 28, CIFAR-10 Batch 3:  Loss: 0.06328 Validation Accuracy: 0.71200\n",
      "Epoch 28, CIFAR-10 Batch 4:  Loss: 0.07404 Validation Accuracy: 0.68960\n",
      "Epoch 28, CIFAR-10 Batch 5:  Loss: 0.05412 Validation Accuracy: 0.70200\n",
      "Epoch 29, CIFAR-10 Batch 1:  Loss: 0.05393 Validation Accuracy: 0.72520\n",
      "Epoch 29, CIFAR-10 Batch 2:  Loss: 0.03721 Validation Accuracy: 0.71160\n",
      "Epoch 29, CIFAR-10 Batch 3:  Loss: 0.03593 Validation Accuracy: 0.72680\n",
      "Epoch 29, CIFAR-10 Batch 4:  Loss: 0.03744 Validation Accuracy: 0.70360\n",
      "Epoch 29, CIFAR-10 Batch 5:  Loss: 0.03412 Validation Accuracy: 0.71680\n",
      "Epoch 30, CIFAR-10 Batch 1:  Loss: 0.04975 Validation Accuracy: 0.73160\n",
      "Epoch 30, CIFAR-10 Batch 2:  Loss: 0.02335 Validation Accuracy: 0.72340\n",
      "Epoch 30, CIFAR-10 Batch 3:  Loss: 0.03882 Validation Accuracy: 0.72720\n",
      "Epoch 30, CIFAR-10 Batch 4:  Loss: 0.03856 Validation Accuracy: 0.70720\n",
      "Epoch 30, CIFAR-10 Batch 5:  Loss: 0.02770 Validation Accuracy: 0.72440\n",
      "Epoch 31, CIFAR-10 Batch 1:  Loss: 0.03735 Validation Accuracy: 0.72900\n",
      "Epoch 31, CIFAR-10 Batch 2:  Loss: 0.04119 Validation Accuracy: 0.71760\n",
      "Epoch 31, CIFAR-10 Batch 3:  Loss: 0.04722 Validation Accuracy: 0.71140\n",
      "Epoch 31, CIFAR-10 Batch 4:  Loss: 0.01662 Validation Accuracy: 0.71840\n",
      "Epoch 31, CIFAR-10 Batch 5:  Loss: 0.02127 Validation Accuracy: 0.72640\n",
      "Epoch 32, CIFAR-10 Batch 1:  Loss: 0.03311 Validation Accuracy: 0.72360\n",
      "Epoch 32, CIFAR-10 Batch 2:  Loss: 0.02724 Validation Accuracy: 0.71760\n",
      "Epoch 32, CIFAR-10 Batch 3:  Loss: 0.03817 Validation Accuracy: 0.71420\n",
      "Epoch 32, CIFAR-10 Batch 4:  Loss: 0.06006 Validation Accuracy: 0.69400\n",
      "Epoch 32, CIFAR-10 Batch 5:  Loss: 0.06434 Validation Accuracy: 0.69340\n",
      "Epoch 33, CIFAR-10 Batch 1:  Loss: 0.05722 Validation Accuracy: 0.72200\n",
      "Epoch 33, CIFAR-10 Batch 2:  Loss: 0.02383 Validation Accuracy: 0.73400\n",
      "Epoch 33, CIFAR-10 Batch 3:  Loss: 0.02673 Validation Accuracy: 0.71480\n",
      "Epoch 33, CIFAR-10 Batch 4:  Loss: 0.03441 Validation Accuracy: 0.72380\n",
      "Epoch 33, CIFAR-10 Batch 5:  Loss: 0.02957 Validation Accuracy: 0.71280\n",
      "Epoch 34, CIFAR-10 Batch 1:  Loss: 0.03164 Validation Accuracy: 0.72720\n",
      "Epoch 34, CIFAR-10 Batch 2:  Loss: 0.01637 Validation Accuracy: 0.73320\n",
      "Epoch 34, CIFAR-10 Batch 3:  Loss: 0.03710 Validation Accuracy: 0.69260\n",
      "Epoch 34, CIFAR-10 Batch 4:  Loss: 0.02890 Validation Accuracy: 0.71940\n",
      "Epoch 34, CIFAR-10 Batch 5:  Loss: 0.01526 Validation Accuracy: 0.72420\n",
      "Epoch 35, CIFAR-10 Batch 1:  Loss: 0.02424 Validation Accuracy: 0.72040\n",
      "Epoch 35, CIFAR-10 Batch 2:  Loss: 0.01235 Validation Accuracy: 0.72400\n",
      "Epoch 35, CIFAR-10 Batch 3:  Loss: 0.00850 Validation Accuracy: 0.72320\n",
      "Epoch 35, CIFAR-10 Batch 4:  Loss: 0.02591 Validation Accuracy: 0.70960\n",
      "Epoch 35, CIFAR-10 Batch 5:  Loss: 0.01694 Validation Accuracy: 0.71040\n",
      "Epoch 36, CIFAR-10 Batch 1:  Loss: 0.03342 Validation Accuracy: 0.71500\n",
      "Epoch 36, CIFAR-10 Batch 2:  Loss: 0.00737 Validation Accuracy: 0.73020\n",
      "Epoch 36, CIFAR-10 Batch 3:  Loss: 0.01202 Validation Accuracy: 0.73080\n",
      "Epoch 36, CIFAR-10 Batch 4:  Loss: 0.03527 Validation Accuracy: 0.71220\n",
      "Epoch 36, CIFAR-10 Batch 5:  Loss: 0.01283 Validation Accuracy: 0.71960\n",
      "Epoch 37, CIFAR-10 Batch 1:  Loss: 0.01653 Validation Accuracy: 0.72620\n",
      "Epoch 37, CIFAR-10 Batch 2:  Loss: 0.01270 Validation Accuracy: 0.72540\n",
      "Epoch 37, CIFAR-10 Batch 3:  Loss: 0.01581 Validation Accuracy: 0.72000\n",
      "Epoch 37, CIFAR-10 Batch 4:  Loss: 0.00925 Validation Accuracy: 0.71180\n",
      "Epoch 37, CIFAR-10 Batch 5:  Loss: 0.01624 Validation Accuracy: 0.71380\n",
      "Epoch 38, CIFAR-10 Batch 1:  Loss: 0.01492 Validation Accuracy: 0.72560\n",
      "Epoch 38, CIFAR-10 Batch 2:  Loss: 0.02552 Validation Accuracy: 0.70760\n",
      "Epoch 38, CIFAR-10 Batch 3:  Loss: 0.01144 Validation Accuracy: 0.72740\n",
      "Epoch 38, CIFAR-10 Batch 4:  Loss: 0.01389 Validation Accuracy: 0.71380\n",
      "Epoch 38, CIFAR-10 Batch 5:  Loss: 0.01473 Validation Accuracy: 0.71160\n",
      "Epoch 39, CIFAR-10 Batch 1:  Loss: 0.01221 Validation Accuracy: 0.73020\n",
      "Epoch 39, CIFAR-10 Batch 2:  Loss: 0.01160 Validation Accuracy: 0.72220\n",
      "Epoch 39, CIFAR-10 Batch 3:  Loss: 0.00908 Validation Accuracy: 0.72960\n",
      "Epoch 39, CIFAR-10 Batch 4:  Loss: 0.01229 Validation Accuracy: 0.72500\n",
      "Epoch 39, CIFAR-10 Batch 5:  Loss: 0.00646 Validation Accuracy: 0.72340\n",
      "Epoch 40, CIFAR-10 Batch 1:  Loss: 0.00806 Validation Accuracy: 0.72300\n",
      "Epoch 40, CIFAR-10 Batch 2:  Loss: 0.01449 Validation Accuracy: 0.72840\n",
      "Epoch 40, CIFAR-10 Batch 3:  Loss: 0.00305 Validation Accuracy: 0.72600\n",
      "Epoch 40, CIFAR-10 Batch 4:  Loss: 0.01026 Validation Accuracy: 0.71980\n",
      "Epoch 40, CIFAR-10 Batch 5:  Loss: 0.00765 Validation Accuracy: 0.72120\n",
      "Epoch 41, CIFAR-10 Batch 1:  Loss: 0.00868 Validation Accuracy: 0.72480\n",
      "Epoch 41, CIFAR-10 Batch 2:  Loss: 0.01326 Validation Accuracy: 0.71480\n",
      "Epoch 41, CIFAR-10 Batch 3:  Loss: 0.00586 Validation Accuracy: 0.72440\n",
      "Epoch 41, CIFAR-10 Batch 4:  Loss: 0.00638 Validation Accuracy: 0.72520\n",
      "Epoch 41, CIFAR-10 Batch 5:  Loss: 0.00695 Validation Accuracy: 0.72180\n",
      "Epoch 42, CIFAR-10 Batch 1:  Loss: 0.01507 Validation Accuracy: 0.72240\n",
      "Epoch 42, CIFAR-10 Batch 2:  Loss: 0.00858 Validation Accuracy: 0.73180\n",
      "Epoch 42, CIFAR-10 Batch 3:  Loss: 0.01015 Validation Accuracy: 0.73500\n",
      "Epoch 42, CIFAR-10 Batch 4:  Loss: 0.00414 Validation Accuracy: 0.72540\n",
      "Epoch 42, CIFAR-10 Batch 5:  Loss: 0.00376 Validation Accuracy: 0.71960\n",
      "Epoch 43, CIFAR-10 Batch 1:  Loss: 0.00712 Validation Accuracy: 0.71840\n",
      "Epoch 43, CIFAR-10 Batch 2:  Loss: 0.00329 Validation Accuracy: 0.72320\n",
      "Epoch 43, CIFAR-10 Batch 3:  Loss: 0.00658 Validation Accuracy: 0.72260\n",
      "Epoch 43, CIFAR-10 Batch 4:  Loss: 0.00577 Validation Accuracy: 0.72680\n",
      "Epoch 43, CIFAR-10 Batch 5:  Loss: 0.00818 Validation Accuracy: 0.72860\n",
      "Epoch 44, CIFAR-10 Batch 1:  Loss: 0.00389 Validation Accuracy: 0.72700\n",
      "Epoch 44, CIFAR-10 Batch 2:  Loss: 0.00419 Validation Accuracy: 0.72200\n",
      "Epoch 44, CIFAR-10 Batch 3:  Loss: 0.01018 Validation Accuracy: 0.72980\n",
      "Epoch 44, CIFAR-10 Batch 4:  Loss: 0.00111 Validation Accuracy: 0.73940\n",
      "Epoch 44, CIFAR-10 Batch 5:  Loss: 0.00334 Validation Accuracy: 0.72120\n",
      "Epoch 45, CIFAR-10 Batch 1:  Loss: 0.00242 Validation Accuracy: 0.72780\n",
      "Epoch 45, CIFAR-10 Batch 2:  Loss: 0.00611 Validation Accuracy: 0.72100\n",
      "Epoch 45, CIFAR-10 Batch 3:  Loss: 0.00225 Validation Accuracy: 0.72640\n",
      "Epoch 45, CIFAR-10 Batch 4:  Loss: 0.00275 Validation Accuracy: 0.72180\n",
      "Epoch 45, CIFAR-10 Batch 5:  Loss: 0.00338 Validation Accuracy: 0.71660\n",
      "Epoch 46, CIFAR-10 Batch 1:  Loss: 0.00421 Validation Accuracy: 0.72380\n",
      "Epoch 46, CIFAR-10 Batch 2:  Loss: 0.01090 Validation Accuracy: 0.72720\n",
      "Epoch 46, CIFAR-10 Batch 3:  Loss: 0.00333 Validation Accuracy: 0.72880\n"
     ]
    },
    {
     "name": "stdout",
     "output_type": "stream",
     "text": [
      "Epoch 46, CIFAR-10 Batch 4:  Loss: 0.00220 Validation Accuracy: 0.72240\n",
      "Epoch 46, CIFAR-10 Batch 5:  Loss: 0.00357 Validation Accuracy: 0.72420\n",
      "Epoch 47, CIFAR-10 Batch 1:  Loss: 0.00457 Validation Accuracy: 0.72460\n",
      "Epoch 47, CIFAR-10 Batch 2:  Loss: 0.00349 Validation Accuracy: 0.72480\n",
      "Epoch 47, CIFAR-10 Batch 3:  Loss: 0.00326 Validation Accuracy: 0.72540\n",
      "Epoch 47, CIFAR-10 Batch 4:  Loss: 0.00382 Validation Accuracy: 0.72920\n",
      "Epoch 47, CIFAR-10 Batch 5:  Loss: 0.00540 Validation Accuracy: 0.72820\n",
      "Epoch 48, CIFAR-10 Batch 1:  Loss: 0.01072 Validation Accuracy: 0.71580\n",
      "Epoch 48, CIFAR-10 Batch 2:  Loss: 0.00258 Validation Accuracy: 0.72580\n",
      "Epoch 48, CIFAR-10 Batch 3:  Loss: 0.00443 Validation Accuracy: 0.72440\n",
      "Epoch 48, CIFAR-10 Batch 4:  Loss: 0.00426 Validation Accuracy: 0.72380\n",
      "Epoch 48, CIFAR-10 Batch 5:  Loss: 0.00264 Validation Accuracy: 0.72840\n",
      "Epoch 49, CIFAR-10 Batch 1:  Loss: 0.00800 Validation Accuracy: 0.72160\n",
      "Epoch 49, CIFAR-10 Batch 2:  Loss: 0.00206 Validation Accuracy: 0.73640\n",
      "Epoch 49, CIFAR-10 Batch 3:  Loss: 0.00479 Validation Accuracy: 0.72200\n",
      "Epoch 49, CIFAR-10 Batch 4:  Loss: 0.00297 Validation Accuracy: 0.72560\n",
      "Epoch 49, CIFAR-10 Batch 5:  Loss: 0.00371 Validation Accuracy: 0.71560\n",
      "Epoch 50, CIFAR-10 Batch 1:  Loss: 0.00568 Validation Accuracy: 0.72160\n",
      "Epoch 50, CIFAR-10 Batch 2:  Loss: 0.00173 Validation Accuracy: 0.72600\n",
      "Epoch 50, CIFAR-10 Batch 3:  Loss: 0.00633 Validation Accuracy: 0.72460\n",
      "Epoch 50, CIFAR-10 Batch 4:  Loss: 0.00327 Validation Accuracy: 0.72860\n",
      "Epoch 50, CIFAR-10 Batch 5:  Loss: 0.00155 Validation Accuracy: 0.71800\n"
     ]
    }
   ],
   "source": [
    "\"\"\"\n",
    "DON'T MODIFY ANYTHING IN THIS CELL\n",
    "\"\"\"\n",
    "save_model_path = './image_classification'\n",
    "\n",
    "print('Training...')\n",
    "with tf.Session() as sess:\n",
    "    # Initializing the variables\n",
    "    sess.run(tf.global_variables_initializer())\n",
    "    \n",
    "    # Training cycle\n",
    "    for epoch in range(epochs):\n",
    "        # Loop over all batches\n",
    "        n_batches = 5\n",
    "        for batch_i in range(1, n_batches + 1):\n",
    "            for batch_features, batch_labels in helper.load_preprocess_training_batch(batch_i, batch_size):\n",
    "                train_neural_network(sess, optimizer, keep_probability, batch_features, batch_labels)\n",
    "            print('Epoch {:>2}, CIFAR-10 Batch {}:  '.format(epoch + 1, batch_i), end='')\n",
    "            print_stats(sess, batch_features, batch_labels, cost, accuracy)\n",
    "            \n",
    "    # Save Model\n",
    "    saver = tf.train.Saver()\n",
    "    save_path = saver.save(sess, save_model_path)"
   ]
  },
  {
   "cell_type": "markdown",
   "metadata": {},
   "source": [
    "# Checkpoint\n",
    "The model has been saved to disk.\n",
    "## Test Model\n",
    "Test your model against the test dataset.  This will be your final accuracy. You should have an accuracy greater than 50%. If you don't, keep tweaking the model architecture and parameters."
   ]
  },
  {
   "cell_type": "code",
   "execution_count": 18,
   "metadata": {},
   "outputs": [
    {
     "name": "stdout",
     "output_type": "stream",
     "text": [
      "INFO:tensorflow:Restoring parameters from ./image_classification\n",
      "Testing Accuracy: 0.7271426945924759\n",
      "\n"
     ]
    },
    {
     "data": {
      "image/png": "[encoded data removed]",
      "text/plain": [
       "<matplotlib.figure.Figure at 0x7f20129fb048>"
      ]
     },
     "metadata": {
      "image/png": {
       "height": 319,
       "width": 349
      }
     },
     "output_type": "display_data"
    }
   ],
   "source": [
    "\"\"\"\n",
    "DON'T MODIFY ANYTHING IN THIS CELL\n",
    "\"\"\"\n",
    "%matplotlib inline\n",
    "%config InlineBackend.figure_format = 'retina'\n",
    "\n",
    "import tensorflow as tf\n",
    "import pickle\n",
    "import helper\n",
    "import random\n",
    "\n",
    "# Set batch size if not already set\n",
    "try:\n",
    "    if batch_size:\n",
    "        pass\n",
    "except NameError:\n",
    "    batch_size = 64\n",
    "\n",
    "save_model_path = './image_classification'\n",
    "n_samples = 4\n",
    "top_n_predictions = 3\n",
    "\n",
    "def test_model():\n",
    "    \"\"\"\n",
    "    Test the saved model against the test dataset\n",
    "    \"\"\"\n",
    "\n",
    "    test_features, test_labels = pickle.load(open('preprocess_training.p', mode='rb'))\n",
    "    loaded_graph = tf.Graph()\n",
    "\n",
    "    with tf.Session(graph=loaded_graph) as sess:\n",
    "        # Load model\n",
    "        loader = tf.train.import_meta_graph(save_model_path + '.meta')\n",
    "        loader.restore(sess, save_model_path)\n",
    "\n",
    "        # Get Tensors from loaded model\n",
    "        loaded_x = loaded_graph.get_tensor_by_name('x:0')\n",
    "        loaded_y = loaded_graph.get_tensor_by_name('y:0')\n",
    "        loaded_keep_prob = loaded_graph.get_tensor_by_name('keep_prob:0')\n",
    "        loaded_logits = loaded_graph.get_tensor_by_name('logits:0')\n",
    "        loaded_acc = loaded_graph.get_tensor_by_name('accuracy:0')\n",
    "        \n",
    "        # Get accuracy in batches for memory limitations\n",
    "        test_batch_acc_total = 0\n",
    "        test_batch_count = 0\n",
    "        \n",
    "        for train_feature_batch, train_label_batch in helper.batch_features_labels(test_features, test_labels, batch_size):\n",
    "            test_batch_acc_total += sess.run(\n",
    "                loaded_acc,\n",
    "                feed_dict={loaded_x: train_feature_batch, loaded_y: train_label_batch, loaded_keep_prob: 1.0})\n",
    "            test_batch_count += 1\n",
    "\n",
    "        print('Testing Accuracy: {}\\n'.format(test_batch_acc_total/test_batch_count))\n",
    "\n",
    "        # Print Random Samples\n",
    "        random_test_features, random_test_labels = tuple(zip(*random.sample(list(zip(test_features, test_labels)), n_samples)))\n",
    "        random_test_predictions = sess.run(\n",
    "            tf.nn.top_k(tf.nn.softmax(loaded_logits), top_n_predictions),\n",
    "            feed_dict={loaded_x: random_test_features, loaded_y: random_test_labels, loaded_keep_prob: 1.0})\n",
    "        helper.display_image_predictions(random_test_features, random_test_labels, random_test_predictions)\n",
    "\n",
    "\n",
    "test_model()"
   ]
  },
  {
   "cell_type": "markdown",
   "metadata": {},
   "source": [
    "## Why 50-80% Accuracy?\n",
    "You might be wondering why you can't get an accuracy any higher. First things first, 50% isn't bad for a simple CNN.  Pure guessing would get you 10% accuracy. That's because there are many more techniques that can be applied to your model and we recemmond that once you are done with this project, you explore!\n",
    "\n",
    "## Submitting This Project\n",
    "When submitting this project, make sure to run all the cells before saving the notebook.  Save the notebook file as \"image_classification.ipynb\" and save it as a HTML file under \"File\" -> \"Download as\".  Include the \"helper.py\" and \"problem_unittests.py\" files in your submission."
   ]
  }
 ],
 "metadata": {
  "kernelspec": {
   "display_name": "Python 3",
   "language": "python",
   "name": "python3"
  },
  "language_info": {
   "codemirror_mode": {
    "name": "ipython",
    "version": 3
   },
   "file_extension": ".py",
   "mimetype": "text/x-python",
   "name": "python",
   "nbconvert_exporter": "python",
   "pygments_lexer": "ipython3",
   "version": "3.5.3"
  }
 },
 "nbformat": 4,
 "nbformat_minor": 1
}
